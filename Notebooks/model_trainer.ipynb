{
 "cells": [
  {
   "cell_type": "code",
   "execution_count": 1,
   "metadata": {},
   "outputs": [],
   "source": [
    "import os"
   ]
  },
  {
   "cell_type": "code",
   "execution_count": 2,
   "metadata": {},
   "outputs": [
    {
     "data": {
      "text/plain": [
       "'d:\\\\Projects\\\\Concrete_Prediction\\\\Concrete_Compressive_Strength_Prediction\\\\notebooks'"
      ]
     },
     "execution_count": 2,
     "metadata": {},
     "output_type": "execute_result"
    }
   ],
   "source": [
    "%pwd"
   ]
  },
  {
   "cell_type": "code",
   "execution_count": 3,
   "metadata": {},
   "outputs": [],
   "source": [
    "os.chdir('../')"
   ]
  },
  {
   "cell_type": "code",
   "execution_count": 4,
   "metadata": {},
   "outputs": [
    {
     "data": {
      "text/plain": [
       "'d:\\\\Projects\\\\Concrete_Prediction\\\\Concrete_Compressive_Strength_Prediction'"
      ]
     },
     "execution_count": 4,
     "metadata": {},
     "output_type": "execute_result"
    }
   ],
   "source": [
    "%pwd"
   ]
  },
  {
   "cell_type": "code",
   "execution_count": 5,
   "metadata": {},
   "outputs": [],
   "source": [
    "from sklearn.metrics import r2_score"
   ]
  },
  {
   "cell_type": "code",
   "execution_count": 6,
   "metadata": {},
   "outputs": [],
   "source": [
    "def evaluate_model(X_train, y_train, X_test, y_test, models):\n",
    "    try:\n",
    "        report = {}\n",
    "        for model_name, model in models.items():\n",
    "            \n",
    "            # Train model on the full training set (no need to fit it twice)\n",
    "            model.fit(X_train, y_train)\n",
    "\n",
    "            # Predict Testing data\n",
    "            y_test_pred = model.predict(X_test)\n",
    "\n",
    "            # Predict Training data\n",
    "            y_train_pred = model.predict(X_train)\n",
    "\n",
    "            # Get R2 scores for train and test data\n",
    "            train_model_score = r2_score(y_train, y_train_pred)\n",
    "            test_model_score = r2_score(y_test, y_test_pred)\n",
    "\n",
    "            report[model_name] = {'train_score': train_model_score, 'test_score': test_model_score}\n",
    "\n",
    "        return report\n",
    "\n",
    "    except Exception as e:\n",
    "        logging.info('Exception occurred during model training')\n",
    "\n",
    "        raise customexception(e, sys)"
   ]
  },
  {
   "cell_type": "code",
   "execution_count": 11,
   "metadata": {},
   "outputs": [],
   "source": [
    "import os\n",
    "import sys\n",
    "import pickle\n",
    "import numpy as np\n",
    "import pandas as pd\n",
    "from src.concrete_strength_prediction.exception import customexception\n",
    "from src.concrete_strength_prediction.logger import logging\n",
    "from dataclasses import dataclass\n",
    "from sklearn.linear_model import LinearRegression, Ridge, Lasso\n",
    "from sklearn.tree import DecisionTreeRegressor\n",
    "from sklearn.ensemble import RandomForestRegressor, GradientBoostingRegressor, AdaBoostRegressor\n",
    "from sklearn.svm import SVR\n",
    "from sklearn.neighbors import KNeighborsRegressor\n"
   ]
  },
  {
   "cell_type": "code",
   "execution_count": 9,
   "metadata": {},
   "outputs": [],
   "source": [
    "@dataclass \n",
    "class ModelTrainerConfig:\n",
    "    trained_model_file_path = os.path.join('artifacts','model.pkl')"
   ]
  },
  {
   "cell_type": "code",
   "execution_count": 13,
   "metadata": {},
   "outputs": [],
   "source": [
    "class ModelTrainer:\n",
    "    def __init__(self):\n",
    "        self.model_trainer_config = ModelTrainerConfig()\n",
    "    \n",
    "    def initate_model_training(self,train_array,test_array):\n",
    "        try:\n",
    "            logging.info('Splitting Dependent and Independent variables from train and test data')\n",
    "            X_train, y_train, X_test, y_test = (\n",
    "                train_array[:,:-1],\n",
    "                train_array[:,-1],\n",
    "                test_array[:,:-1],\n",
    "                test_array[:,-1]\n",
    "            )\n",
    "\n",
    "            # Extracting the first 5 rows for logging\n",
    "            logging.info(f'X_train (first 5 rows):\\n{pd.DataFrame(train_array[:,:-1]).head()}')\n",
    "            logging.info(f'y_train (first 5 rows):\\n{pd.DataFrame(train_array[:,-1]).head()}')\n",
    "            logging.info(f'X_test (first 5 rows):\\n{pd.DataFrame(test_array[:,:-1]).head()}')\n",
    "            logging.info(f'y_test (first 5 rows):\\n{pd.DataFrame(test_array[:,-1]).head()}')\n",
    "            \n",
    "\n",
    "            models={\n",
    "                'LinearRegression':LinearRegression(),\n",
    "                'DecisionTreeRegressor':DecisionTreeRegressor(),\n",
    "                'Ridge': Ridge(alpha=1.0),\n",
    "                'Lasso': Lasso(alpha=1.0),\n",
    "                'RandomForestRegressor':RandomForestRegressor(),\n",
    "                'KNN': KNeighborsRegressor(),\n",
    "                'GradientBoosting': GradientBoostingRegressor(),\n",
    "                'SVR': SVR(kernel='linear'),\n",
    "                'AdaBoosting': AdaBoostRegressor()}\n",
    "            \n",
    "            logging.info('Evaluating models...')\n",
    "            model_report:dict=evaluate_model(X_train,y_train,X_test,y_test,models)\n",
    "            print(model_report)\n",
    "            print('\\n====================================================================================\\n')\n",
    "            logging.info(f'Model Report : {model_report}')\n",
    "\n",
    "            # To get best model score from dictionary \n",
    "            best_model_score = max(model_report.values(), key=lambda x: x['test_score'])\n",
    "\n",
    "\n",
    "            best_model_name = list(model_report.keys())[\n",
    "                list(model_report.values()).index(best_model_score)\n",
    "            ]\n",
    "            \n",
    "            best_model = models[best_model_name]\n",
    "\n",
    "            print(f'Best Model Found , Model Name : {best_model_name} , Accuracy Score : {best_model_score}')\n",
    "            print('\\n====================================================================================\\n')\n",
    "            logging.info(f'Best Model Found , Model Name : {best_model_name} , Accuracy Score : {best_model_score}')\n",
    "\n",
    "            save_object(\n",
    "                 file_path=self.model_trainer_config.trained_model_file_path,\n",
    "                 obj=best_model\n",
    "            )\n",
    "          \n",
    "\n",
    "        except Exception as e:\n",
    "            logging.info('Exception occured at Model Training')\n",
    "            raise customexception(e,sys)"
   ]
  },
  {
   "cell_type": "code",
   "execution_count": 14,
   "metadata": {},
   "outputs": [],
   "source": [
    "def save_object(file_path, obj):\n",
    "    try:\n",
    "        dir_path = os.path.dirname(file_path)\n",
    "\n",
    "        os.makedirs(dir_path, exist_ok=True)\n",
    "\n",
    "        with open(file_path, \"wb\") as file_obj:\n",
    "            pickle.dump(obj, file_obj)\n",
    "\n",
    "    except Exception as e:\n",
    "        raise customexception(e, sys)"
   ]
  },
  {
   "cell_type": "code",
   "execution_count": 21,
   "metadata": {},
   "outputs": [
    {
     "name": "stdout",
     "output_type": "stream",
     "text": [
      "[2024-02-02 22:25:20,234: INFO: training_pipeline: Training Pipeline has started]\n",
      "[2024-02-02 22:25:20,239: INFO: data_ingestion: Data ingestion has started]\n",
      "[2024-02-02 22:25:20,668: INFO: data_ingestion: shape of the dataset : (1030, 9)]\n",
      "[2024-02-02 22:25:20,751: INFO: data_ingestion: Duplicates rows had been removed]\n",
      "[2024-02-02 22:25:20,754: INFO: data_ingestion: shape of the dataset : (1005, 9)]\n",
      "[2024-02-02 22:25:20,874: INFO: data_ingestion: files saved to artifacts]\n",
      "[2024-02-02 22:25:20,877: INFO: data_transformation: Reading train and test data from CSV files]\n",
      "[2024-02-02 22:25:20,953: INFO: data_transformation: Read train and test data complete]\n",
      "[2024-02-02 22:25:20,986: INFO: data_transformation: Train Dataframe Head:\n",
      "   cement  blast_furnace_slag  fly_ash  water  superplasticizer  coarse_aggregate  fine_aggregate   age  concrete_compressive_strength\n",
      "0   531.3                 0.0      0.0  141.8              28.2             852.1            893.7    3                          41.30\n",
      "1   475.0                 0.0      0.0  228.0               0.0             932.0            594.0    7                          38.60\n",
      "2   277.1                 0.0     97.4  160.6              11.8             973.9            875.6    3                          23.14\n",
      "3   436.0                 0.0      0.0  218.0               0.0             838.4            719.7   28                          23.85\n",
      "4   166.8               250.2      0.0  203.5               0.0             975.6            692.6    7                          15.75]\n",
      "[2024-02-02 22:25:21,024: INFO: data_transformation: Test Dataframe Head:\n",
      "   cement  blast_furnace_slag  fly_ash  water  superplasticizer  coarse_aggregate  fine_aggregate   age  concrete_compressive_strength\n",
      "0   152.7               144.7      0.0  178.1               8.0             999.7            822.2   28                          19.01\n",
      "1   122.6               183.9      0.0  203.5               0.0             958.2            800.1   28                          24.29\n",
      "2   153.0               102.0      0.0  192.0               0.0             888.0            943.1   90                          26.32\n",
      "3   480.0                 0.0      0.0  192.0               0.0             936.2            712.2    7                          34.57\n",
      "4   500.1                 0.0      0.0  200.0               3.0            1124.4            613.2   28                          44.13]\n",
      "[2024-02-02 22:25:21,027: INFO: data_transformation: Outliers removed in train data]\n",
      "[2024-02-02 22:25:21,033: INFO: data_transformation: train data shape : (804, 9)]\n",
      "[2024-02-02 22:25:21,157: INFO: data_transformation: after removed outliers: (733, 9)]\n",
      "[2024-02-02 22:25:21,161: INFO: data_transformation: Outliers removed in test data]\n",
      "[2024-02-02 22:25:21,166: INFO: data_transformation: train data shape : (201, 9)]\n",
      "[2024-02-02 22:25:21,274: INFO: data_transformation: after removed outliers: (174, 9)]\n",
      "[2024-02-02 22:25:21,278: INFO: data_transformation: Data Transformation initiated]\n",
      "[2024-02-02 22:25:21,281: INFO: data_transformation: Pipeline Initiated]\n",
      "[2024-02-02 22:25:21,287: INFO: data_transformation: Extracting features and target columns]\n",
      "[2024-02-02 22:25:21,379: INFO: data_transformation: Read train and test data complete]\n",
      "[2024-02-02 22:25:21,418: INFO: data_transformation: Train Dataframe Head:\n",
      "   cement  blast_furnace_slag  fly_ash  water  superplasticizer  coarse_aggregate  fine_aggregate   age\n",
      "1   475.0                 0.0      0.0  228.0               0.0             932.0            594.0    7\n",
      "2   277.1                 0.0     97.4  160.6              11.8             973.9            875.6    3\n",
      "3   436.0                 0.0      0.0  218.0               0.0             838.4            719.7   28\n",
      "4   166.8               250.2      0.0  203.5               0.0             975.6            692.6    7\n",
      "6   295.7                 0.0     95.6  171.5               8.9             955.1            859.2  100]\n",
      "[2024-02-02 22:25:21,452: INFO: data_transformation: Test Dataframe Head:\n",
      "   cement  blast_furnace_slag  fly_ash  water  superplasticizer  coarse_aggregate  fine_aggregate   age\n",
      "0   152.7               144.7      0.0  178.1               8.0             999.7            822.2   28\n",
      "1   122.6               183.9      0.0  203.5               0.0             958.2            800.1   28\n",
      "3   480.0                 0.0      0.0  192.0               0.0             936.2            712.2    7\n",
      "4   500.1                 0.0      0.0  200.0               3.0            1124.4            613.2   28\n",
      "5   212.0               141.3      0.0  203.5               0.0             973.4            750.0   28]\n",
      "[2024-02-02 22:25:21,457: INFO: data_transformation: Applying preprocessing object on training and testing datasets]\n",
      "[2024-02-02 22:25:21,509: INFO: data_transformation: Combining features and target columns into arrays]\n",
      "[2024-02-02 22:25:21,514: INFO: data_transformation: Saving preprocessing pickle file]\n",
      "[2024-02-02 22:25:21,523: INFO: data_transformation: Preprocessing pickle file saved]\n"
     ]
    }
   ],
   "source": [
    "from src.concrete_strength_prediction.pipelines.training_pipeline import train_data_path,test_data_path,train_arr,test_arr\n"
   ]
  },
  {
   "cell_type": "code",
   "execution_count": 23,
   "metadata": {},
   "outputs": [
    {
     "name": "stdout",
     "output_type": "stream",
     "text": [
      "[2024-02-02 22:26:25,197: INFO: 536573678: Splitting Dependent and Independent variables from train and test data]\n",
      "[2024-02-02 22:26:25,218: INFO: 536573678: X_train (first 5 rows):\n",
      "          0         1         2         3         4         5         6  \\\n",
      "0  2.000063 -0.836051 -0.934166  2.506114 -1.157347 -0.554398 -2.418435   \n",
      "1  0.047662 -0.836051  0.576817 -1.109865  1.078455 -0.012290  1.327617   \n",
      "2  1.615305 -0.836051 -0.934166  1.969619 -1.157347 -1.765407 -0.746280   \n",
      "3 -1.040513  2.037186 -0.934166  1.191701 -1.157347  0.009704 -1.106784   \n",
      "4  0.231162 -0.836051  0.548894 -0.525085  0.528978 -0.255527  1.109452   \n",
      "\n",
      "          7  \n",
      "0 -0.899289  \n",
      "1 -1.043372  \n",
      "2 -0.142854  \n",
      "3 -0.899289  \n",
      "4  2.450637  ]\n",
      "[2024-02-02 22:26:25,226: INFO: 536573678: y_train (first 5 rows):\n",
      "       0\n",
      "0  38.60\n",
      "1  23.14\n",
      "2  23.85\n",
      "3  15.75\n",
      "4  52.04]\n",
      "[2024-02-02 22:26:25,245: INFO: 536573678: X_test (first 5 rows):\n",
      "          0         1         2         3         4         5         6  \\\n",
      "0 -1.179618  0.825649 -0.934166 -0.170998  0.358451  0.321513  0.617251   \n",
      "1 -1.476573  1.275813 -0.934166  1.191701 -1.157347 -0.215419  0.323260   \n",
      "2  2.049391 -0.836051 -0.934166  0.574731 -1.157347 -0.500058 -0.846051   \n",
      "3  2.247689 -0.836051 -0.934166  1.003927 -0.588923  1.934898 -2.163022   \n",
      "4 -0.594588  0.786605 -0.934166  1.191701 -1.157347 -0.018759 -0.343207   \n",
      "\n",
      "          7  \n",
      "0 -0.142854  \n",
      "1 -0.142854  \n",
      "2 -0.899289  \n",
      "3 -0.142854  \n",
      "4 -0.142854  ]\n",
      "[2024-02-02 22:26:25,252: INFO: 536573678: y_test (first 5 rows):\n",
      "       0\n",
      "0  19.01\n",
      "1  24.29\n",
      "2  34.57\n",
      "3  44.13\n",
      "4  33.00]\n",
      "[2024-02-02 22:26:25,255: INFO: 536573678: Evaluating models...]\n",
      "{'LinearRegression': {'train_score': 0.7698570938432419, 'test_score': 0.7338119180246356}, 'DecisionTreeRegressor': {'train_score': 0.9960592066477566, 'test_score': 0.8546908407763324}, 'Ridge': {'train_score': 0.7698484638288261, 'test_score': 0.7334378096034291}, 'Lasso': {'train_score': 0.7330796205626111, 'test_score': 0.6802048440129278}, 'RandomForestRegressor': {'train_score': 0.9820060845478331, 'test_score': 0.9084680778279253}, 'KNN': {'train_score': 0.8474477408791492, 'test_score': 0.7637532780099819}, 'GradientBoosting': {'train_score': 0.9450401103475855, 'test_score': 0.8964387166526913}, 'SVR': {'train_score': 0.7681504090708864, 'test_score': 0.7260306955013752}, 'AdaBoosting': {'train_score': 0.8148164230104716, 'test_score': 0.7912640900682265}}\n",
      "\n",
      "====================================================================================\n",
      "\n",
      "[2024-02-02 22:26:27,791: INFO: 536573678: Model Report : {'LinearRegression': {'train_score': 0.7698570938432419, 'test_score': 0.7338119180246356}, 'DecisionTreeRegressor': {'train_score': 0.9960592066477566, 'test_score': 0.8546908407763324}, 'Ridge': {'train_score': 0.7698484638288261, 'test_score': 0.7334378096034291}, 'Lasso': {'train_score': 0.7330796205626111, 'test_score': 0.6802048440129278}, 'RandomForestRegressor': {'train_score': 0.9820060845478331, 'test_score': 0.9084680778279253}, 'KNN': {'train_score': 0.8474477408791492, 'test_score': 0.7637532780099819}, 'GradientBoosting': {'train_score': 0.9450401103475855, 'test_score': 0.8964387166526913}, 'SVR': {'train_score': 0.7681504090708864, 'test_score': 0.7260306955013752}, 'AdaBoosting': {'train_score': 0.8148164230104716, 'test_score': 0.7912640900682265}}]\n",
      "Best Model Found , Model Name : RandomForestRegressor , Accuracy Score : {'train_score': 0.9820060845478331, 'test_score': 0.9084680778279253}\n",
      "\n",
      "====================================================================================\n",
      "\n",
      "[2024-02-02 22:26:27,798: INFO: 536573678: Best Model Found , Model Name : RandomForestRegressor , Accuracy Score : {'train_score': 0.9820060845478331, 'test_score': 0.9084680778279253}]\n"
     ]
    }
   ],
   "source": [
    "model_trainer_obj=ModelTrainer()\n",
    "model_trainer_obj.initate_model_training(train_arr,test_arr)"
   ]
  },
  {
   "cell_type": "code",
   "execution_count": null,
   "metadata": {},
   "outputs": [],
   "source": []
  }
 ],
 "metadata": {
  "kernelspec": {
   "display_name": "Python 3",
   "language": "python",
   "name": "python3"
  },
  "language_info": {
   "codemirror_mode": {
    "name": "ipython",
    "version": 3
   },
   "file_extension": ".py",
   "mimetype": "text/x-python",
   "name": "python",
   "nbconvert_exporter": "python",
   "pygments_lexer": "ipython3",
   "version": "3.8.0"
  }
 },
 "nbformat": 4,
 "nbformat_minor": 2
}
